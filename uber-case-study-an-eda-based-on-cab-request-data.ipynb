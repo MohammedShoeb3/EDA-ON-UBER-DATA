{
 "cells": [
  {
   "cell_type": "markdown",
   "metadata": {},
   "source": [
    "# Case_Study\n",
    "\n",
    "## Summary:\n",
    "    \n",
    "#### We have a cab trip dataset wherein details regarding customer_request_id, pick up point, driver id, Status, Request timestamp and Drop timestamp. Based out of these features , I have cleaned the data and have applied basic EDA techniques to come to a broader conclusion.\n",
    "\n",
    "NOTE: This is just an exercise for educational purpose."
   ]
  },
  {
   "cell_type": "markdown",
   "metadata": {},
   "source": [
    "#### Importing the required libraries"
   ]
  },
  {
   "cell_type": "code",
   "execution_count": 59,
   "metadata": {
    "execution": {
     "iopub.execute_input": "2021-06-10T07:24:24.971712Z",
     "iopub.status.busy": "2021-06-10T07:24:24.971333Z",
     "iopub.status.idle": "2021-06-10T07:24:24.976557Z",
     "shell.execute_reply": "2021-06-10T07:24:24.975403Z",
     "shell.execute_reply.started": "2021-06-10T07:24:24.971682Z"
    }
   },
   "outputs": [],
   "source": [
    "import numpy as np\n",
    "\n",
    "import pandas as pd\n",
    "\n",
    "import seaborn as sns\n",
    "\n",
    "import matplotlib.pyplot as plt"
   ]
  },
  {
   "cell_type": "markdown",
   "metadata": {},
   "source": [
    "## 1. Facts and Figures about our dataset(Understanding the data)"
   ]
  },
  {
   "cell_type": "markdown",
   "metadata": {},
   "source": [
    "#### Read the csv into a dataframe(df) and print the first 5 rows"
   ]
  },
  {
   "cell_type": "code",
   "execution_count": 60,
   "metadata": {},
   "outputs": [],
   "source": [
    "import os"
   ]
  },
  {
   "cell_type": "code",
   "execution_count": 61,
   "metadata": {},
   "outputs": [
    {
     "data": {
      "text/plain": [
       "'C:\\\\Users\\\\user\\\\OneDrive\\\\EDA\\\\Uber Case Study'"
      ]
     },
     "execution_count": 61,
     "metadata": {},
     "output_type": "execute_result"
    }
   ],
   "source": [
    "os.getcwd()"
   ]
  },
  {
   "cell_type": "code",
   "execution_count": 62,
   "metadata": {},
   "outputs": [
    {
     "data": {
      "text/plain": [
       "['Uber Request Data.csv']"
      ]
     },
     "execution_count": 62,
     "metadata": {},
     "output_type": "execute_result"
    }
   ],
   "source": [
    "os.listdir('data')"
   ]
  },
  {
   "cell_type": "code",
   "execution_count": 63,
   "metadata": {},
   "outputs": [
    {
     "data": {
      "text/html": [
       "<div>\n",
       "<style scoped>\n",
       "    .dataframe tbody tr th:only-of-type {\n",
       "        vertical-align: middle;\n",
       "    }\n",
       "\n",
       "    .dataframe tbody tr th {\n",
       "        vertical-align: top;\n",
       "    }\n",
       "\n",
       "    .dataframe thead th {\n",
       "        text-align: right;\n",
       "    }\n",
       "</style>\n",
       "<table border=\"1\" class=\"dataframe\">\n",
       "  <thead>\n",
       "    <tr style=\"text-align: right;\">\n",
       "      <th></th>\n",
       "      <th>Request id</th>\n",
       "      <th>Pickup point</th>\n",
       "      <th>Driver id</th>\n",
       "      <th>Status</th>\n",
       "      <th>Request timestamp</th>\n",
       "      <th>Drop timestamp</th>\n",
       "    </tr>\n",
       "  </thead>\n",
       "  <tbody>\n",
       "    <tr>\n",
       "      <th>0</th>\n",
       "      <td>619</td>\n",
       "      <td>Airport</td>\n",
       "      <td>1.0</td>\n",
       "      <td>Trip Completed</td>\n",
       "      <td>11/7/2016 11:51</td>\n",
       "      <td>11/7/2016 13:00</td>\n",
       "    </tr>\n",
       "    <tr>\n",
       "      <th>1</th>\n",
       "      <td>867</td>\n",
       "      <td>Airport</td>\n",
       "      <td>1.0</td>\n",
       "      <td>Trip Completed</td>\n",
       "      <td>11/7/2016 17:57</td>\n",
       "      <td>11/7/2016 18:47</td>\n",
       "    </tr>\n",
       "    <tr>\n",
       "      <th>2</th>\n",
       "      <td>1807</td>\n",
       "      <td>City</td>\n",
       "      <td>1.0</td>\n",
       "      <td>Trip Completed</td>\n",
       "      <td>12/7/2016 9:17</td>\n",
       "      <td>12/7/2016 9:58</td>\n",
       "    </tr>\n",
       "    <tr>\n",
       "      <th>3</th>\n",
       "      <td>2532</td>\n",
       "      <td>Airport</td>\n",
       "      <td>1.0</td>\n",
       "      <td>Trip Completed</td>\n",
       "      <td>12/7/2016 21:08</td>\n",
       "      <td>12/7/2016 22:03</td>\n",
       "    </tr>\n",
       "    <tr>\n",
       "      <th>4</th>\n",
       "      <td>3112</td>\n",
       "      <td>City</td>\n",
       "      <td>1.0</td>\n",
       "      <td>Trip Completed</td>\n",
       "      <td>13-07-2016 08:33:16</td>\n",
       "      <td>13-07-2016 09:25:47</td>\n",
       "    </tr>\n",
       "  </tbody>\n",
       "</table>\n",
       "</div>"
      ],
      "text/plain": [
       "   Request id Pickup point  Driver id          Status    Request timestamp  \\\n",
       "0         619      Airport        1.0  Trip Completed      11/7/2016 11:51   \n",
       "1         867      Airport        1.0  Trip Completed      11/7/2016 17:57   \n",
       "2        1807         City        1.0  Trip Completed       12/7/2016 9:17   \n",
       "3        2532      Airport        1.0  Trip Completed      12/7/2016 21:08   \n",
       "4        3112         City        1.0  Trip Completed  13-07-2016 08:33:16   \n",
       "\n",
       "        Drop timestamp  \n",
       "0      11/7/2016 13:00  \n",
       "1      11/7/2016 18:47  \n",
       "2       12/7/2016 9:58  \n",
       "3      12/7/2016 22:03  \n",
       "4  13-07-2016 09:25:47  "
      ]
     },
     "execution_count": 63,
     "metadata": {},
     "output_type": "execute_result"
    }
   ],
   "source": [
    "df=pd.read_csv(\"data/Uber Request Data.csv\")\n",
    "df.head()"
   ]
  },
  {
   "cell_type": "code",
   "execution_count": 64,
   "metadata": {},
   "outputs": [
    {
     "data": {
      "text/html": [
       "<div>\n",
       "<style scoped>\n",
       "    .dataframe tbody tr th:only-of-type {\n",
       "        vertical-align: middle;\n",
       "    }\n",
       "\n",
       "    .dataframe tbody tr th {\n",
       "        vertical-align: top;\n",
       "    }\n",
       "\n",
       "    .dataframe thead th {\n",
       "        text-align: right;\n",
       "    }\n",
       "</style>\n",
       "<table border=\"1\" class=\"dataframe\">\n",
       "  <thead>\n",
       "    <tr style=\"text-align: right;\">\n",
       "      <th></th>\n",
       "      <th>Request id</th>\n",
       "      <th>Pickup point</th>\n",
       "      <th>Driver id</th>\n",
       "      <th>Status</th>\n",
       "      <th>Request timestamp</th>\n",
       "      <th>Drop timestamp</th>\n",
       "    </tr>\n",
       "  </thead>\n",
       "  <tbody>\n",
       "    <tr>\n",
       "      <th>0</th>\n",
       "      <td>619</td>\n",
       "      <td>Airport</td>\n",
       "      <td>1.0</td>\n",
       "      <td>Trip Completed</td>\n",
       "      <td>11/7/2016 11:51</td>\n",
       "      <td>11/7/2016 13:00</td>\n",
       "    </tr>\n",
       "    <tr>\n",
       "      <th>1</th>\n",
       "      <td>867</td>\n",
       "      <td>Airport</td>\n",
       "      <td>1.0</td>\n",
       "      <td>Trip Completed</td>\n",
       "      <td>11/7/2016 17:57</td>\n",
       "      <td>11/7/2016 18:47</td>\n",
       "    </tr>\n",
       "    <tr>\n",
       "      <th>2</th>\n",
       "      <td>1807</td>\n",
       "      <td>City</td>\n",
       "      <td>1.0</td>\n",
       "      <td>Trip Completed</td>\n",
       "      <td>12/7/2016 9:17</td>\n",
       "      <td>12/7/2016 9:58</td>\n",
       "    </tr>\n",
       "    <tr>\n",
       "      <th>3</th>\n",
       "      <td>2532</td>\n",
       "      <td>Airport</td>\n",
       "      <td>1.0</td>\n",
       "      <td>Trip Completed</td>\n",
       "      <td>12/7/2016 21:08</td>\n",
       "      <td>12/7/2016 22:03</td>\n",
       "    </tr>\n",
       "    <tr>\n",
       "      <th>4</th>\n",
       "      <td>3112</td>\n",
       "      <td>City</td>\n",
       "      <td>1.0</td>\n",
       "      <td>Trip Completed</td>\n",
       "      <td>13-07-2016 08:33:16</td>\n",
       "      <td>13-07-2016 09:25:47</td>\n",
       "    </tr>\n",
       "  </tbody>\n",
       "</table>\n",
       "</div>"
      ],
      "text/plain": [
       "   Request id Pickup point  Driver id          Status    Request timestamp  \\\n",
       "0         619      Airport        1.0  Trip Completed      11/7/2016 11:51   \n",
       "1         867      Airport        1.0  Trip Completed      11/7/2016 17:57   \n",
       "2        1807         City        1.0  Trip Completed       12/7/2016 9:17   \n",
       "3        2532      Airport        1.0  Trip Completed      12/7/2016 21:08   \n",
       "4        3112         City        1.0  Trip Completed  13-07-2016 08:33:16   \n",
       "\n",
       "        Drop timestamp  \n",
       "0      11/7/2016 13:00  \n",
       "1      11/7/2016 18:47  \n",
       "2       12/7/2016 9:58  \n",
       "3      12/7/2016 22:03  \n",
       "4  13-07-2016 09:25:47  "
      ]
     },
     "execution_count": 64,
     "metadata": {},
     "output_type": "execute_result"
    }
   ],
   "source": [
    "df = pd.read_csv('data/Uber Request Data.csv')\n",
    "df.head()"
   ]
  },
  {
   "cell_type": "code",
   "execution_count": 78,
   "metadata": {
    "execution": {
     "iopub.execute_input": "2021-06-10T07:24:25.020174Z",
     "iopub.status.busy": "2021-06-10T07:24:25.019710Z",
     "iopub.status.idle": "2021-06-10T07:24:25.026892Z",
     "shell.execute_reply": "2021-06-10T07:24:25.025904Z",
     "shell.execute_reply.started": "2021-06-10T07:24:25.020126Z"
    }
   },
   "outputs": [
    {
     "data": {
      "text/plain": [
       "6745"
      ]
     },
     "execution_count": 78,
     "metadata": {},
     "output_type": "execute_result"
    }
   ],
   "source": [
    "len(df[\"Request id\"].unique())"
   ]
  },
  {
   "cell_type": "markdown",
   "metadata": {},
   "source": [
    "#### Show the number of rows and columns in the dataset"
   ]
  },
  {
   "cell_type": "code",
   "execution_count": 66,
   "metadata": {
    "execution": {
     "iopub.execute_input": "2021-06-10T07:24:25.032246Z",
     "iopub.status.busy": "2021-06-10T07:24:25.031816Z",
     "iopub.status.idle": "2021-06-10T07:24:25.039708Z",
     "shell.execute_reply": "2021-06-10T07:24:25.038843Z",
     "shell.execute_reply.started": "2021-06-10T07:24:25.032177Z"
    }
   },
   "outputs": [
    {
     "name": "stdout",
     "output_type": "stream",
     "text": [
      "<class 'pandas.core.frame.DataFrame'>\n",
      "RangeIndex: 6745 entries, 0 to 6744\n",
      "Data columns (total 6 columns):\n",
      " #   Column             Non-Null Count  Dtype  \n",
      "---  ------             --------------  -----  \n",
      " 0   Request id         6745 non-null   int64  \n",
      " 1   Pickup point       6745 non-null   object \n",
      " 2   Driver id          4095 non-null   float64\n",
      " 3   Status             6745 non-null   object \n",
      " 4   Request timestamp  6745 non-null   object \n",
      " 5   Drop timestamp     2831 non-null   object \n",
      "dtypes: float64(1), int64(1), object(4)\n",
      "memory usage: 210.8+ KB\n"
     ]
    }
   ],
   "source": [
    "df.info()"
   ]
  },
  {
   "cell_type": "markdown",
   "metadata": {},
   "source": [
    "#### Show the number of NaNs in each columns"
   ]
  },
  {
   "cell_type": "code",
   "execution_count": 67,
   "metadata": {
    "execution": {
     "iopub.execute_input": "2021-06-10T07:24:25.055911Z",
     "iopub.status.busy": "2021-06-10T07:24:25.055362Z",
     "iopub.status.idle": "2021-06-10T07:24:25.066307Z",
     "shell.execute_reply": "2021-06-10T07:24:25.064979Z",
     "shell.execute_reply.started": "2021-06-10T07:24:25.055877Z"
    }
   },
   "outputs": [
    {
     "data": {
      "text/plain": [
       "Request id              0\n",
       "Pickup point            0\n",
       "Driver id            2650\n",
       "Status                  0\n",
       "Request timestamp       0\n",
       "Drop timestamp       3914\n",
       "dtype: int64"
      ]
     },
     "execution_count": 67,
     "metadata": {},
     "output_type": "execute_result"
    }
   ],
   "source": [
    "df.isnull().sum()"
   ]
  },
  {
   "cell_type": "markdown",
   "metadata": {},
   "source": [
    "#### Show the % of NaNs in each columns"
   ]
  },
  {
   "cell_type": "code",
   "execution_count": 68,
   "metadata": {
    "execution": {
     "iopub.execute_input": "2021-06-10T07:24:25.068609Z",
     "iopub.status.busy": "2021-06-10T07:24:25.068258Z",
     "iopub.status.idle": "2021-06-10T07:24:25.082560Z",
     "shell.execute_reply": "2021-06-10T07:24:25.081683Z",
     "shell.execute_reply.started": "2021-06-10T07:24:25.068574Z"
    }
   },
   "outputs": [
    {
     "data": {
      "text/plain": [
       "Request id            0.000000\n",
       "Pickup point          0.000000\n",
       "Driver id            39.288362\n",
       "Status                0.000000\n",
       "Request timestamp     0.000000\n",
       "Drop timestamp       58.028169\n",
       "dtype: float64"
      ]
     },
     "execution_count": 68,
     "metadata": {},
     "output_type": "execute_result"
    }
   ],
   "source": [
    "df.isnull().sum()/df.shape[0]*100 # df.shape[0] gives the number of rows"
   ]
  },
  {
   "cell_type": "markdown",
   "metadata": {},
   "source": [
    "#### Show the details ssuch as column names,dtypes,non-null count for the given data"
   ]
  },
  {
   "cell_type": "markdown",
   "metadata": {},
   "source": [
    "#### Extracted Info:\n",
    "##### Number of Rows: 6745\n",
    "##### Number of Columns: 6\n",
    "##### Dtype of each column based on the type of data it holds\n",
    "##### There are 2 numerical(int and float) anf 4 objects columns"
   ]
  },
  {
   "cell_type": "code",
   "execution_count": 69,
   "metadata": {
    "execution": {
     "iopub.execute_input": "2021-06-10T07:24:25.084447Z",
     "iopub.status.busy": "2021-06-10T07:24:25.083985Z",
     "iopub.status.idle": "2021-06-10T07:24:25.098495Z",
     "shell.execute_reply": "2021-06-10T07:24:25.097624Z",
     "shell.execute_reply.started": "2021-06-10T07:24:25.084412Z"
    }
   },
   "outputs": [
    {
     "name": "stdout",
     "output_type": "stream",
     "text": [
      "<class 'pandas.core.frame.DataFrame'>\n",
      "RangeIndex: 6745 entries, 0 to 6744\n",
      "Data columns (total 6 columns):\n",
      " #   Column             Non-Null Count  Dtype  \n",
      "---  ------             --------------  -----  \n",
      " 0   Request id         6745 non-null   int64  \n",
      " 1   Pickup point       6745 non-null   object \n",
      " 2   Driver id          4095 non-null   float64\n",
      " 3   Status             6745 non-null   object \n",
      " 4   Request timestamp  6745 non-null   object \n",
      " 5   Drop timestamp     2831 non-null   object \n",
      "dtypes: float64(1), int64(1), object(4)\n",
      "memory usage: 210.8+ KB\n"
     ]
    }
   ],
   "source": [
    "df.info()"
   ]
  },
  {
   "cell_type": "markdown",
   "metadata": {},
   "source": [
    "#### Finding out the statistical summary for both numerical and object columns in one place"
   ]
  },
  {
   "cell_type": "code",
   "execution_count": 70,
   "metadata": {
    "execution": {
     "iopub.execute_input": "2021-06-10T07:24:25.100544Z",
     "iopub.status.busy": "2021-06-10T07:24:25.100016Z",
     "iopub.status.idle": "2021-06-10T07:24:25.138641Z",
     "shell.execute_reply": "2021-06-10T07:24:25.137686Z",
     "shell.execute_reply.started": "2021-06-10T07:24:25.100494Z"
    }
   },
   "outputs": [
    {
     "data": {
      "text/html": [
       "<div>\n",
       "<style scoped>\n",
       "    .dataframe tbody tr th:only-of-type {\n",
       "        vertical-align: middle;\n",
       "    }\n",
       "\n",
       "    .dataframe tbody tr th {\n",
       "        vertical-align: top;\n",
       "    }\n",
       "\n",
       "    .dataframe thead th {\n",
       "        text-align: right;\n",
       "    }\n",
       "</style>\n",
       "<table border=\"1\" class=\"dataframe\">\n",
       "  <thead>\n",
       "    <tr style=\"text-align: right;\">\n",
       "      <th></th>\n",
       "      <th>Request id</th>\n",
       "      <th>Pickup point</th>\n",
       "      <th>Driver id</th>\n",
       "      <th>Status</th>\n",
       "      <th>Request timestamp</th>\n",
       "      <th>Drop timestamp</th>\n",
       "    </tr>\n",
       "  </thead>\n",
       "  <tbody>\n",
       "    <tr>\n",
       "      <th>count</th>\n",
       "      <td>6745.000000</td>\n",
       "      <td>6745</td>\n",
       "      <td>4095.000000</td>\n",
       "      <td>6745</td>\n",
       "      <td>6745</td>\n",
       "      <td>2831</td>\n",
       "    </tr>\n",
       "    <tr>\n",
       "      <th>unique</th>\n",
       "      <td>NaN</td>\n",
       "      <td>2</td>\n",
       "      <td>NaN</td>\n",
       "      <td>3</td>\n",
       "      <td>5618</td>\n",
       "      <td>2598</td>\n",
       "    </tr>\n",
       "    <tr>\n",
       "      <th>top</th>\n",
       "      <td>NaN</td>\n",
       "      <td>City</td>\n",
       "      <td>NaN</td>\n",
       "      <td>Trip Completed</td>\n",
       "      <td>11/7/2016 8:37</td>\n",
       "      <td>12/7/2016 21:53</td>\n",
       "    </tr>\n",
       "    <tr>\n",
       "      <th>freq</th>\n",
       "      <td>NaN</td>\n",
       "      <td>3507</td>\n",
       "      <td>NaN</td>\n",
       "      <td>2831</td>\n",
       "      <td>6</td>\n",
       "      <td>4</td>\n",
       "    </tr>\n",
       "    <tr>\n",
       "      <th>mean</th>\n",
       "      <td>3384.644922</td>\n",
       "      <td>NaN</td>\n",
       "      <td>149.501343</td>\n",
       "      <td>NaN</td>\n",
       "      <td>NaN</td>\n",
       "      <td>NaN</td>\n",
       "    </tr>\n",
       "    <tr>\n",
       "      <th>std</th>\n",
       "      <td>1955.099667</td>\n",
       "      <td>NaN</td>\n",
       "      <td>86.051994</td>\n",
       "      <td>NaN</td>\n",
       "      <td>NaN</td>\n",
       "      <td>NaN</td>\n",
       "    </tr>\n",
       "    <tr>\n",
       "      <th>min</th>\n",
       "      <td>1.000000</td>\n",
       "      <td>NaN</td>\n",
       "      <td>1.000000</td>\n",
       "      <td>NaN</td>\n",
       "      <td>NaN</td>\n",
       "      <td>NaN</td>\n",
       "    </tr>\n",
       "    <tr>\n",
       "      <th>25%</th>\n",
       "      <td>1691.000000</td>\n",
       "      <td>NaN</td>\n",
       "      <td>75.000000</td>\n",
       "      <td>NaN</td>\n",
       "      <td>NaN</td>\n",
       "      <td>NaN</td>\n",
       "    </tr>\n",
       "    <tr>\n",
       "      <th>50%</th>\n",
       "      <td>3387.000000</td>\n",
       "      <td>NaN</td>\n",
       "      <td>149.000000</td>\n",
       "      <td>NaN</td>\n",
       "      <td>NaN</td>\n",
       "      <td>NaN</td>\n",
       "    </tr>\n",
       "    <tr>\n",
       "      <th>75%</th>\n",
       "      <td>5080.000000</td>\n",
       "      <td>NaN</td>\n",
       "      <td>224.000000</td>\n",
       "      <td>NaN</td>\n",
       "      <td>NaN</td>\n",
       "      <td>NaN</td>\n",
       "    </tr>\n",
       "    <tr>\n",
       "      <th>max</th>\n",
       "      <td>6766.000000</td>\n",
       "      <td>NaN</td>\n",
       "      <td>300.000000</td>\n",
       "      <td>NaN</td>\n",
       "      <td>NaN</td>\n",
       "      <td>NaN</td>\n",
       "    </tr>\n",
       "  </tbody>\n",
       "</table>\n",
       "</div>"
      ],
      "text/plain": [
       "         Request id Pickup point    Driver id          Status  \\\n",
       "count   6745.000000         6745  4095.000000            6745   \n",
       "unique          NaN            2          NaN               3   \n",
       "top             NaN         City          NaN  Trip Completed   \n",
       "freq            NaN         3507          NaN            2831   \n",
       "mean    3384.644922          NaN   149.501343             NaN   \n",
       "std     1955.099667          NaN    86.051994             NaN   \n",
       "min        1.000000          NaN     1.000000             NaN   \n",
       "25%     1691.000000          NaN    75.000000             NaN   \n",
       "50%     3387.000000          NaN   149.000000             NaN   \n",
       "75%     5080.000000          NaN   224.000000             NaN   \n",
       "max     6766.000000          NaN   300.000000             NaN   \n",
       "\n",
       "       Request timestamp   Drop timestamp  \n",
       "count               6745             2831  \n",
       "unique              5618             2598  \n",
       "top       11/7/2016 8:37  12/7/2016 21:53  \n",
       "freq                   6                4  \n",
       "mean                 NaN              NaN  \n",
       "std                  NaN              NaN  \n",
       "min                  NaN              NaN  \n",
       "25%                  NaN              NaN  \n",
       "50%                  NaN              NaN  \n",
       "75%                  NaN              NaN  \n",
       "max                  NaN              NaN  "
      ]
     },
     "execution_count": 70,
     "metadata": {},
     "output_type": "execute_result"
    }
   ],
   "source": [
    "df.describe(include=\"all\")"
   ]
  },
  {
   "cell_type": "markdown",
   "metadata": {},
   "source": [
    "## 2. Cleaning/Handling the data"
   ]
  },
  {
   "cell_type": "markdown",
   "metadata": {},
   "source": [
    "#### We see that for the column \"Request timstamp\", the format of DateTime is different for different sections of data. Some have it separated by \"-\" and some have it separated by \"/\". \n",
    "#### Let us first replace the \"/\" with \"-\" to have uniformity and then convert the enite column to standard datatime format using \"pd.to_datatime\" function. Refer to lines 10,11 and 12."
   ]
  },
  {
   "cell_type": "code",
   "execution_count": 71,
   "metadata": {
    "execution": {
     "iopub.execute_input": "2021-06-10T07:24:25.140443Z",
     "iopub.status.busy": "2021-06-10T07:24:25.139903Z",
     "iopub.status.idle": "2021-06-10T07:24:25.152909Z",
     "shell.execute_reply": "2021-06-10T07:24:25.151986Z",
     "shell.execute_reply.started": "2021-06-10T07:24:25.140393Z"
    }
   },
   "outputs": [
    {
     "data": {
      "text/plain": [
       "11/7/2016 8:37         6\n",
       "11/7/2016 19:02        6\n",
       "11/7/2016 17:57        6\n",
       "11/7/2016 9:40         6\n",
       "12/7/2016 17:30        5\n",
       "                      ..\n",
       "13-07-2016 05:53:50    1\n",
       "13-07-2016 00:08:23    1\n",
       "14-07-2016 22:09:30    1\n",
       "15-07-2016 12:57:23    1\n",
       "13-07-2016 18:38:39    1\n",
       "Name: Request timestamp, Length: 5618, dtype: int64"
      ]
     },
     "execution_count": 71,
     "metadata": {},
     "output_type": "execute_result"
    }
   ],
   "source": [
    "df[\"Request timestamp\"].value_counts()"
   ]
  },
  {
   "cell_type": "code",
   "execution_count": 79,
   "metadata": {
    "execution": {
     "iopub.execute_input": "2021-06-10T07:24:25.154683Z",
     "iopub.status.busy": "2021-06-10T07:24:25.154121Z",
     "iopub.status.idle": "2021-06-10T07:24:25.166030Z",
     "shell.execute_reply": "2021-06-10T07:24:25.164619Z",
     "shell.execute_reply.started": "2021-06-10T07:24:25.154632Z"
    }
   },
   "outputs": [],
   "source": [
    "df[\"Request timestamp\"]=df[\"Request timestamp\"].astype(str)"
   ]
  },
  {
   "cell_type": "code",
   "execution_count": 80,
   "metadata": {
    "execution": {
     "iopub.execute_input": "2021-06-10T07:24:25.168763Z",
     "iopub.status.busy": "2021-06-10T07:24:25.168392Z",
     "iopub.status.idle": "2021-06-10T07:24:25.185197Z",
     "shell.execute_reply": "2021-06-10T07:24:25.184153Z",
     "shell.execute_reply.started": "2021-06-10T07:24:25.168730Z"
    }
   },
   "outputs": [],
   "source": [
    "df[\"Request timestamp\"]=df[\"Request timestamp\"].replace(\"/\",\"-\")"
   ]
  },
  {
   "cell_type": "code",
   "execution_count": 81,
   "metadata": {
    "execution": {
     "iopub.execute_input": "2021-06-10T07:24:25.187152Z",
     "iopub.status.busy": "2021-06-10T07:24:25.186658Z",
     "iopub.status.idle": "2021-06-10T07:24:25.793113Z",
     "shell.execute_reply": "2021-06-10T07:24:25.792129Z",
     "shell.execute_reply.started": "2021-06-10T07:24:25.187117Z"
    }
   },
   "outputs": [],
   "source": [
    "df[\"Request timestamp\"]=pd.to_datetime(df[\"Request timestamp\"],dayfirst=True)"
   ]
  },
  {
   "cell_type": "markdown",
   "metadata": {},
   "source": [
    "#### After doing the datatime conversion, if we pull the info again, we see that \"Request timestamp\" is converted to \"datetime\"."
   ]
  },
  {
   "cell_type": "code",
   "execution_count": 82,
   "metadata": {
    "execution": {
     "iopub.execute_input": "2021-06-10T07:24:25.794966Z",
     "iopub.status.busy": "2021-06-10T07:24:25.794453Z",
     "iopub.status.idle": "2021-06-10T07:24:25.807736Z",
     "shell.execute_reply": "2021-06-10T07:24:25.806520Z",
     "shell.execute_reply.started": "2021-06-10T07:24:25.794919Z"
    }
   },
   "outputs": [
    {
     "name": "stdout",
     "output_type": "stream",
     "text": [
      "<class 'pandas.core.frame.DataFrame'>\n",
      "RangeIndex: 6745 entries, 0 to 6744\n",
      "Data columns (total 6 columns):\n",
      " #   Column             Non-Null Count  Dtype         \n",
      "---  ------             --------------  -----         \n",
      " 0   Request id         6745 non-null   int64         \n",
      " 1   Pickup point       6745 non-null   object        \n",
      " 2   Driver id          4095 non-null   float64       \n",
      " 3   Status             6745 non-null   object        \n",
      " 4   Request timestamp  6745 non-null   datetime64[ns]\n",
      " 5   Drop timestamp     2831 non-null   object        \n",
      "dtypes: datetime64[ns](1), float64(1), int64(1), object(3)\n",
      "memory usage: 237.2+ KB\n"
     ]
    }
   ],
   "source": [
    "df.info()"
   ]
  },
  {
   "cell_type": "code",
   "execution_count": 83,
   "metadata": {},
   "outputs": [
    {
     "data": {
      "text/html": [
       "<div>\n",
       "<style scoped>\n",
       "    .dataframe tbody tr th:only-of-type {\n",
       "        vertical-align: middle;\n",
       "    }\n",
       "\n",
       "    .dataframe tbody tr th {\n",
       "        vertical-align: top;\n",
       "    }\n",
       "\n",
       "    .dataframe thead th {\n",
       "        text-align: right;\n",
       "    }\n",
       "</style>\n",
       "<table border=\"1\" class=\"dataframe\">\n",
       "  <thead>\n",
       "    <tr style=\"text-align: right;\">\n",
       "      <th></th>\n",
       "      <th>Request id</th>\n",
       "      <th>Pickup point</th>\n",
       "      <th>Driver id</th>\n",
       "      <th>Status</th>\n",
       "      <th>Request timestamp</th>\n",
       "      <th>Drop timestamp</th>\n",
       "    </tr>\n",
       "  </thead>\n",
       "  <tbody>\n",
       "    <tr>\n",
       "      <th>0</th>\n",
       "      <td>619</td>\n",
       "      <td>Airport</td>\n",
       "      <td>1.0</td>\n",
       "      <td>Trip Completed</td>\n",
       "      <td>2016-07-11 11:51:00</td>\n",
       "      <td>11/7/2016 13:00</td>\n",
       "    </tr>\n",
       "    <tr>\n",
       "      <th>1</th>\n",
       "      <td>867</td>\n",
       "      <td>Airport</td>\n",
       "      <td>1.0</td>\n",
       "      <td>Trip Completed</td>\n",
       "      <td>2016-07-11 17:57:00</td>\n",
       "      <td>11/7/2016 18:47</td>\n",
       "    </tr>\n",
       "    <tr>\n",
       "      <th>2</th>\n",
       "      <td>1807</td>\n",
       "      <td>City</td>\n",
       "      <td>1.0</td>\n",
       "      <td>Trip Completed</td>\n",
       "      <td>2016-07-12 09:17:00</td>\n",
       "      <td>12/7/2016 9:58</td>\n",
       "    </tr>\n",
       "    <tr>\n",
       "      <th>3</th>\n",
       "      <td>2532</td>\n",
       "      <td>Airport</td>\n",
       "      <td>1.0</td>\n",
       "      <td>Trip Completed</td>\n",
       "      <td>2016-07-12 21:08:00</td>\n",
       "      <td>12/7/2016 22:03</td>\n",
       "    </tr>\n",
       "    <tr>\n",
       "      <th>4</th>\n",
       "      <td>3112</td>\n",
       "      <td>City</td>\n",
       "      <td>1.0</td>\n",
       "      <td>Trip Completed</td>\n",
       "      <td>2016-07-13 08:33:16</td>\n",
       "      <td>13-07-2016 09:25:47</td>\n",
       "    </tr>\n",
       "    <tr>\n",
       "      <th>...</th>\n",
       "      <td>...</td>\n",
       "      <td>...</td>\n",
       "      <td>...</td>\n",
       "      <td>...</td>\n",
       "      <td>...</td>\n",
       "      <td>...</td>\n",
       "    </tr>\n",
       "    <tr>\n",
       "      <th>6740</th>\n",
       "      <td>6745</td>\n",
       "      <td>City</td>\n",
       "      <td>NaN</td>\n",
       "      <td>No Cars Available</td>\n",
       "      <td>2016-07-15 23:49:03</td>\n",
       "      <td>NaN</td>\n",
       "    </tr>\n",
       "    <tr>\n",
       "      <th>6741</th>\n",
       "      <td>6752</td>\n",
       "      <td>Airport</td>\n",
       "      <td>NaN</td>\n",
       "      <td>No Cars Available</td>\n",
       "      <td>2016-07-15 23:50:05</td>\n",
       "      <td>NaN</td>\n",
       "    </tr>\n",
       "    <tr>\n",
       "      <th>6742</th>\n",
       "      <td>6751</td>\n",
       "      <td>City</td>\n",
       "      <td>NaN</td>\n",
       "      <td>No Cars Available</td>\n",
       "      <td>2016-07-15 23:52:06</td>\n",
       "      <td>NaN</td>\n",
       "    </tr>\n",
       "    <tr>\n",
       "      <th>6743</th>\n",
       "      <td>6754</td>\n",
       "      <td>City</td>\n",
       "      <td>NaN</td>\n",
       "      <td>No Cars Available</td>\n",
       "      <td>2016-07-15 23:54:39</td>\n",
       "      <td>NaN</td>\n",
       "    </tr>\n",
       "    <tr>\n",
       "      <th>6744</th>\n",
       "      <td>6753</td>\n",
       "      <td>Airport</td>\n",
       "      <td>NaN</td>\n",
       "      <td>No Cars Available</td>\n",
       "      <td>2016-07-15 23:55:03</td>\n",
       "      <td>NaN</td>\n",
       "    </tr>\n",
       "  </tbody>\n",
       "</table>\n",
       "<p>6745 rows × 6 columns</p>\n",
       "</div>"
      ],
      "text/plain": [
       "      Request id Pickup point  Driver id             Status  \\\n",
       "0            619      Airport        1.0     Trip Completed   \n",
       "1            867      Airport        1.0     Trip Completed   \n",
       "2           1807         City        1.0     Trip Completed   \n",
       "3           2532      Airport        1.0     Trip Completed   \n",
       "4           3112         City        1.0     Trip Completed   \n",
       "...          ...          ...        ...                ...   \n",
       "6740        6745         City        NaN  No Cars Available   \n",
       "6741        6752      Airport        NaN  No Cars Available   \n",
       "6742        6751         City        NaN  No Cars Available   \n",
       "6743        6754         City        NaN  No Cars Available   \n",
       "6744        6753      Airport        NaN  No Cars Available   \n",
       "\n",
       "       Request timestamp       Drop timestamp  \n",
       "0    2016-07-11 11:51:00      11/7/2016 13:00  \n",
       "1    2016-07-11 17:57:00      11/7/2016 18:47  \n",
       "2    2016-07-12 09:17:00       12/7/2016 9:58  \n",
       "3    2016-07-12 21:08:00      12/7/2016 22:03  \n",
       "4    2016-07-13 08:33:16  13-07-2016 09:25:47  \n",
       "...                  ...                  ...  \n",
       "6740 2016-07-15 23:49:03                  NaN  \n",
       "6741 2016-07-15 23:50:05                  NaN  \n",
       "6742 2016-07-15 23:52:06                  NaN  \n",
       "6743 2016-07-15 23:54:39                  NaN  \n",
       "6744 2016-07-15 23:55:03                  NaN  \n",
       "\n",
       "[6745 rows x 6 columns]"
      ]
     },
     "execution_count": 83,
     "metadata": {},
     "output_type": "execute_result"
    }
   ],
   "source": [
    "df"
   ]
  },
  {
   "cell_type": "markdown",
   "metadata": {},
   "source": [
    "#### Similarly convert \"Drop timestamp\" column from \"object\" to \"datatime\""
   ]
  },
  {
   "cell_type": "code",
   "execution_count": 84,
   "metadata": {
    "execution": {
     "iopub.execute_input": "2021-06-10T07:24:25.809583Z",
     "iopub.status.busy": "2021-06-10T07:24:25.809091Z",
     "iopub.status.idle": "2021-06-10T07:24:26.066475Z",
     "shell.execute_reply": "2021-06-10T07:24:26.065712Z",
     "shell.execute_reply.started": "2021-06-10T07:24:25.809536Z"
    }
   },
   "outputs": [],
   "source": [
    "df[\"Drop timestamp\"]=pd.to_datetime(df[\"Drop timestamp\"],dayfirst=True)"
   ]
  },
  {
   "cell_type": "markdown",
   "metadata": {},
   "source": [
    "#### Pulling up the info, now we can see both \"Request timestamp\" and \"Drop timestamp\" are converted to datatime standard."
   ]
  },
  {
   "cell_type": "code",
   "execution_count": 85,
   "metadata": {
    "execution": {
     "iopub.execute_input": "2021-06-10T07:24:26.068009Z",
     "iopub.status.busy": "2021-06-10T07:24:26.067527Z",
     "iopub.status.idle": "2021-06-10T07:24:26.080563Z",
     "shell.execute_reply": "2021-06-10T07:24:26.079461Z",
     "shell.execute_reply.started": "2021-06-10T07:24:26.067968Z"
    }
   },
   "outputs": [
    {
     "name": "stdout",
     "output_type": "stream",
     "text": [
      "<class 'pandas.core.frame.DataFrame'>\n",
      "RangeIndex: 6745 entries, 0 to 6744\n",
      "Data columns (total 6 columns):\n",
      " #   Column             Non-Null Count  Dtype         \n",
      "---  ------             --------------  -----         \n",
      " 0   Request id         6745 non-null   int64         \n",
      " 1   Pickup point       6745 non-null   object        \n",
      " 2   Driver id          4095 non-null   float64       \n",
      " 3   Status             6745 non-null   object        \n",
      " 4   Request timestamp  6745 non-null   datetime64[ns]\n",
      " 5   Drop timestamp     2831 non-null   datetime64[ns]\n",
      "dtypes: datetime64[ns](2), float64(1), int64(1), object(2)\n",
      "memory usage: 263.5+ KB\n"
     ]
    }
   ],
   "source": [
    "df.info()"
   ]
  },
  {
   "cell_type": "code",
   "execution_count": 86,
   "metadata": {
    "execution": {
     "iopub.execute_input": "2021-06-10T07:24:26.083699Z",
     "iopub.status.busy": "2021-06-10T07:24:26.083343Z",
     "iopub.status.idle": "2021-06-10T07:24:26.094078Z",
     "shell.execute_reply": "2021-06-10T07:24:26.092956Z",
     "shell.execute_reply.started": "2021-06-10T07:24:26.083666Z"
    }
   },
   "outputs": [
    {
     "data": {
      "text/plain": [
       "0      2016-07-11 13:00:00\n",
       "1      2016-07-11 18:47:00\n",
       "2      2016-07-12 09:58:00\n",
       "3      2016-07-12 22:03:00\n",
       "4      2016-07-13 09:25:47\n",
       "               ...        \n",
       "6740                   NaT\n",
       "6741                   NaT\n",
       "6742                   NaT\n",
       "6743                   NaT\n",
       "6744                   NaT\n",
       "Name: Drop timestamp, Length: 6745, dtype: datetime64[ns]"
      ]
     },
     "execution_count": 86,
     "metadata": {},
     "output_type": "execute_result"
    }
   ],
   "source": [
    "df[\"Drop timestamp\"]"
   ]
  },
  {
   "cell_type": "markdown",
   "metadata": {},
   "source": [
    "#### We now add 2 columns \"req_hour\"(which is Hour of the request during the day) and \"req_day\"(which is the day of the month) to determine and catogorise the load of cab service requests."
   ]
  },
  {
   "cell_type": "code",
   "execution_count": 87,
   "metadata": {
    "execution": {
     "iopub.execute_input": "2021-06-10T07:24:26.097308Z",
     "iopub.status.busy": "2021-06-10T07:24:26.096649Z",
     "iopub.status.idle": "2021-06-10T07:24:26.104563Z",
     "shell.execute_reply": "2021-06-10T07:24:26.103643Z",
     "shell.execute_reply.started": "2021-06-10T07:24:26.097252Z"
    }
   },
   "outputs": [],
   "source": [
    "req_hour=df[\"Request timestamp\"].dt.hour # Fetching the hour number from the request timestamp"
   ]
  },
  {
   "cell_type": "code",
   "execution_count": 88,
   "metadata": {
    "execution": {
     "iopub.execute_input": "2021-06-10T07:24:26.106507Z",
     "iopub.status.busy": "2021-06-10T07:24:26.105869Z",
     "iopub.status.idle": "2021-06-10T07:24:26.116322Z",
     "shell.execute_reply": "2021-06-10T07:24:26.115402Z",
     "shell.execute_reply.started": "2021-06-10T07:24:26.106458Z"
    }
   },
   "outputs": [],
   "source": [
    "df[\"req_hour\"]=req_hour # Adding a new column \"req_hour\" from the hour number fetched from above."
   ]
  },
  {
   "cell_type": "code",
   "execution_count": 89,
   "metadata": {
    "execution": {
     "iopub.execute_input": "2021-06-10T07:24:26.118289Z",
     "iopub.status.busy": "2021-06-10T07:24:26.117632Z",
     "iopub.status.idle": "2021-06-10T07:24:26.130731Z",
     "shell.execute_reply": "2021-06-10T07:24:26.129703Z",
     "shell.execute_reply.started": "2021-06-10T07:24:26.118241Z"
    }
   },
   "outputs": [],
   "source": [
    "req_day=df[\"Request timestamp\"].dt.day # Fetching the day number from the request timestamp"
   ]
  },
  {
   "cell_type": "code",
   "execution_count": 90,
   "metadata": {
    "execution": {
     "iopub.execute_input": "2021-06-10T07:24:26.132791Z",
     "iopub.status.busy": "2021-06-10T07:24:26.132088Z",
     "iopub.status.idle": "2021-06-10T07:24:26.145871Z",
     "shell.execute_reply": "2021-06-10T07:24:26.144395Z",
     "shell.execute_reply.started": "2021-06-10T07:24:26.132741Z"
    }
   },
   "outputs": [],
   "source": [
    "df[\"req_day\"]=req_day # Adding a new column \"req_day\" from the day number fetched from above"
   ]
  },
  {
   "cell_type": "code",
   "execution_count": 91,
   "metadata": {},
   "outputs": [
    {
     "data": {
      "text/html": [
       "<div>\n",
       "<style scoped>\n",
       "    .dataframe tbody tr th:only-of-type {\n",
       "        vertical-align: middle;\n",
       "    }\n",
       "\n",
       "    .dataframe tbody tr th {\n",
       "        vertical-align: top;\n",
       "    }\n",
       "\n",
       "    .dataframe thead th {\n",
       "        text-align: right;\n",
       "    }\n",
       "</style>\n",
       "<table border=\"1\" class=\"dataframe\">\n",
       "  <thead>\n",
       "    <tr style=\"text-align: right;\">\n",
       "      <th></th>\n",
       "      <th>Request id</th>\n",
       "      <th>Pickup point</th>\n",
       "      <th>Driver id</th>\n",
       "      <th>Status</th>\n",
       "      <th>Request timestamp</th>\n",
       "      <th>Drop timestamp</th>\n",
       "      <th>req_hour</th>\n",
       "      <th>req_day</th>\n",
       "    </tr>\n",
       "  </thead>\n",
       "  <tbody>\n",
       "    <tr>\n",
       "      <th>0</th>\n",
       "      <td>619</td>\n",
       "      <td>Airport</td>\n",
       "      <td>1.0</td>\n",
       "      <td>Trip Completed</td>\n",
       "      <td>2016-07-11 11:51:00</td>\n",
       "      <td>2016-07-11 13:00:00</td>\n",
       "      <td>11</td>\n",
       "      <td>11</td>\n",
       "    </tr>\n",
       "    <tr>\n",
       "      <th>1</th>\n",
       "      <td>867</td>\n",
       "      <td>Airport</td>\n",
       "      <td>1.0</td>\n",
       "      <td>Trip Completed</td>\n",
       "      <td>2016-07-11 17:57:00</td>\n",
       "      <td>2016-07-11 18:47:00</td>\n",
       "      <td>17</td>\n",
       "      <td>11</td>\n",
       "    </tr>\n",
       "    <tr>\n",
       "      <th>2</th>\n",
       "      <td>1807</td>\n",
       "      <td>City</td>\n",
       "      <td>1.0</td>\n",
       "      <td>Trip Completed</td>\n",
       "      <td>2016-07-12 09:17:00</td>\n",
       "      <td>2016-07-12 09:58:00</td>\n",
       "      <td>9</td>\n",
       "      <td>12</td>\n",
       "    </tr>\n",
       "    <tr>\n",
       "      <th>3</th>\n",
       "      <td>2532</td>\n",
       "      <td>Airport</td>\n",
       "      <td>1.0</td>\n",
       "      <td>Trip Completed</td>\n",
       "      <td>2016-07-12 21:08:00</td>\n",
       "      <td>2016-07-12 22:03:00</td>\n",
       "      <td>21</td>\n",
       "      <td>12</td>\n",
       "    </tr>\n",
       "    <tr>\n",
       "      <th>4</th>\n",
       "      <td>3112</td>\n",
       "      <td>City</td>\n",
       "      <td>1.0</td>\n",
       "      <td>Trip Completed</td>\n",
       "      <td>2016-07-13 08:33:16</td>\n",
       "      <td>2016-07-13 09:25:47</td>\n",
       "      <td>8</td>\n",
       "      <td>13</td>\n",
       "    </tr>\n",
       "    <tr>\n",
       "      <th>...</th>\n",
       "      <td>...</td>\n",
       "      <td>...</td>\n",
       "      <td>...</td>\n",
       "      <td>...</td>\n",
       "      <td>...</td>\n",
       "      <td>...</td>\n",
       "      <td>...</td>\n",
       "      <td>...</td>\n",
       "    </tr>\n",
       "    <tr>\n",
       "      <th>6740</th>\n",
       "      <td>6745</td>\n",
       "      <td>City</td>\n",
       "      <td>NaN</td>\n",
       "      <td>No Cars Available</td>\n",
       "      <td>2016-07-15 23:49:03</td>\n",
       "      <td>NaT</td>\n",
       "      <td>23</td>\n",
       "      <td>15</td>\n",
       "    </tr>\n",
       "    <tr>\n",
       "      <th>6741</th>\n",
       "      <td>6752</td>\n",
       "      <td>Airport</td>\n",
       "      <td>NaN</td>\n",
       "      <td>No Cars Available</td>\n",
       "      <td>2016-07-15 23:50:05</td>\n",
       "      <td>NaT</td>\n",
       "      <td>23</td>\n",
       "      <td>15</td>\n",
       "    </tr>\n",
       "    <tr>\n",
       "      <th>6742</th>\n",
       "      <td>6751</td>\n",
       "      <td>City</td>\n",
       "      <td>NaN</td>\n",
       "      <td>No Cars Available</td>\n",
       "      <td>2016-07-15 23:52:06</td>\n",
       "      <td>NaT</td>\n",
       "      <td>23</td>\n",
       "      <td>15</td>\n",
       "    </tr>\n",
       "    <tr>\n",
       "      <th>6743</th>\n",
       "      <td>6754</td>\n",
       "      <td>City</td>\n",
       "      <td>NaN</td>\n",
       "      <td>No Cars Available</td>\n",
       "      <td>2016-07-15 23:54:39</td>\n",
       "      <td>NaT</td>\n",
       "      <td>23</td>\n",
       "      <td>15</td>\n",
       "    </tr>\n",
       "    <tr>\n",
       "      <th>6744</th>\n",
       "      <td>6753</td>\n",
       "      <td>Airport</td>\n",
       "      <td>NaN</td>\n",
       "      <td>No Cars Available</td>\n",
       "      <td>2016-07-15 23:55:03</td>\n",
       "      <td>NaT</td>\n",
       "      <td>23</td>\n",
       "      <td>15</td>\n",
       "    </tr>\n",
       "  </tbody>\n",
       "</table>\n",
       "<p>6745 rows × 8 columns</p>\n",
       "</div>"
      ],
      "text/plain": [
       "      Request id Pickup point  Driver id             Status  \\\n",
       "0            619      Airport        1.0     Trip Completed   \n",
       "1            867      Airport        1.0     Trip Completed   \n",
       "2           1807         City        1.0     Trip Completed   \n",
       "3           2532      Airport        1.0     Trip Completed   \n",
       "4           3112         City        1.0     Trip Completed   \n",
       "...          ...          ...        ...                ...   \n",
       "6740        6745         City        NaN  No Cars Available   \n",
       "6741        6752      Airport        NaN  No Cars Available   \n",
       "6742        6751         City        NaN  No Cars Available   \n",
       "6743        6754         City        NaN  No Cars Available   \n",
       "6744        6753      Airport        NaN  No Cars Available   \n",
       "\n",
       "       Request timestamp      Drop timestamp  req_hour  req_day  \n",
       "0    2016-07-11 11:51:00 2016-07-11 13:00:00        11       11  \n",
       "1    2016-07-11 17:57:00 2016-07-11 18:47:00        17       11  \n",
       "2    2016-07-12 09:17:00 2016-07-12 09:58:00         9       12  \n",
       "3    2016-07-12 21:08:00 2016-07-12 22:03:00        21       12  \n",
       "4    2016-07-13 08:33:16 2016-07-13 09:25:47         8       13  \n",
       "...                  ...                 ...       ...      ...  \n",
       "6740 2016-07-15 23:49:03                 NaT        23       15  \n",
       "6741 2016-07-15 23:50:05                 NaT        23       15  \n",
       "6742 2016-07-15 23:52:06                 NaT        23       15  \n",
       "6743 2016-07-15 23:54:39                 NaT        23       15  \n",
       "6744 2016-07-15 23:55:03                 NaT        23       15  \n",
       "\n",
       "[6745 rows x 8 columns]"
      ]
     },
     "execution_count": 91,
     "metadata": {},
     "output_type": "execute_result"
    }
   ],
   "source": [
    "df"
   ]
  },
  {
   "cell_type": "markdown",
   "metadata": {},
   "source": [
    "## Note: \n",
    "#### The NaNs/missing values in the column \"Driver_Id\" can be ignored.\n",
    "#### This is because we see that since there were NO CARS AVAILABLE at point of the day after the user tried to book a cab, no driver was alloted the trip and hence the driver_id is empty.\n",
    "#### Similary, we can ignore the NaNs/missing values in the column \"Drop timestamp\" as for all of them, the trip is either CANCELLED or NO CARS AVAILABLE.\n",
    "#### In both the above cases, the data is missing due to a genuine reason and not that it got lost during data collection. Hence, I have not substitued them with any other values based on any logic. "
   ]
  },
  {
   "cell_type": "code",
   "execution_count": 105,
   "metadata": {
    "execution": {
     "iopub.execute_input": "2021-06-10T07:24:26.148058Z",
     "iopub.status.busy": "2021-06-10T07:24:26.147562Z",
     "iopub.status.idle": "2021-06-10T07:24:26.557443Z",
     "shell.execute_reply": "2021-06-10T07:24:26.556076Z",
     "shell.execute_reply.started": "2021-06-10T07:24:26.147996Z"
    }
   },
   "outputs": [
    {
     "data": {
      "image/png": "[encoded data removed]",
      "text/plain": [
       "<Figure size 720x432 with 1 Axes>"
      ]
     },
     "metadata": {
      "needs_background": "light"
     },
     "output_type": "display_data"
    }
   ],
   "source": [
    "plt.figure(figsize=(10,6))\n",
    "sns.countplot(x=\"req_hour\",data=df,hue=\"Status\")\n",
    "plt.show()"
   ]
  },
  {
   "cell_type": "markdown",
   "metadata": {},
   "source": [
    "# 3. Visualize and Analyse"
   ]
  },
  {
   "cell_type": "code",
   "execution_count": 110,
   "metadata": {
    "execution": {
     "iopub.execute_input": "2021-06-10T07:24:26.559744Z",
     "iopub.status.busy": "2021-06-10T07:24:26.559272Z",
     "iopub.status.idle": "2021-06-10T07:24:27.078435Z",
     "shell.execute_reply": "2021-06-10T07:24:27.077298Z",
     "shell.execute_reply.started": "2021-06-10T07:24:26.559692Z"
    }
   },
   "outputs": [
    {
     "data": {
      "image/png": "[encoded data removed]",
      "text/plain": [
       "<Figure size 1008x504 with 1 Axes>"
      ]
     },
     "metadata": {
      "needs_background": "light"
     },
     "output_type": "display_data"
    }
   ],
   "source": [
    "plt.figure(figsize=(14,7))\n",
    "sns.countplot(x=\"req_hour\",data=df,hue=\"Pickup point\")\n",
    "plt.show()"
   ]
  },
  {
   "cell_type": "markdown",
   "metadata": {},
   "source": [
    "#### Plot of Status of the trip at different hours of the day and also pick up locations shows that,\n",
    "#### 1) Between hours 5AM-9AM, the load on cabs are high with almost equal amount of trips getting completed and cancelled.\n",
    "#### 2) Between hours 5PM-9PM, the load on cabs are significantly high. Hence, there is mismatch between cab demand and availabilty. Hence, we see more of \"No cars Available Status\".\n",
    "#### 3) Between hours 5AM-9AM, the users from city is significantly high.\n",
    "#### 4) Between hours 5PM-9PM, the users from Airport is significantly high."
   ]
  },
  {
   "cell_type": "markdown",
   "metadata": {},
   "source": [
    "#### Adding a new column Time_Slot to make categories of hours from the req_hour column"
   ]
  },
  {
   "cell_type": "code",
   "execution_count": 103,
   "metadata": {
    "execution": {
     "iopub.execute_input": "2021-06-10T07:24:27.080590Z",
     "iopub.status.busy": "2021-06-10T07:24:27.080257Z",
     "iopub.status.idle": "2021-06-10T07:24:27.086580Z",
     "shell.execute_reply": "2021-06-10T07:24:27.085441Z",
     "shell.execute_reply.started": "2021-06-10T07:24:27.080560Z"
    }
   },
   "outputs": [],
   "source": [
    "df[\"Time_Slot\"]=0"
   ]
  },
  {
   "cell_type": "code",
   "execution_count": 104,
   "metadata": {
    "execution": {
     "iopub.execute_input": "2021-06-10T07:24:27.088861Z",
     "iopub.status.busy": "2021-06-10T07:24:27.088442Z",
     "iopub.status.idle": "2021-06-10T07:24:27.112358Z",
     "shell.execute_reply": "2021-06-10T07:24:27.110803Z",
     "shell.execute_reply.started": "2021-06-10T07:24:27.088802Z"
    }
   },
   "outputs": [
    {
     "data": {
      "text/html": [
       "<div>\n",
       "<style scoped>\n",
       "    .dataframe tbody tr th:only-of-type {\n",
       "        vertical-align: middle;\n",
       "    }\n",
       "\n",
       "    .dataframe tbody tr th {\n",
       "        vertical-align: top;\n",
       "    }\n",
       "\n",
       "    .dataframe thead th {\n",
       "        text-align: right;\n",
       "    }\n",
       "</style>\n",
       "<table border=\"1\" class=\"dataframe\">\n",
       "  <thead>\n",
       "    <tr style=\"text-align: right;\">\n",
       "      <th></th>\n",
       "      <th>Request id</th>\n",
       "      <th>Pickup point</th>\n",
       "      <th>Driver id</th>\n",
       "      <th>Status</th>\n",
       "      <th>Request timestamp</th>\n",
       "      <th>Drop timestamp</th>\n",
       "      <th>req_hour</th>\n",
       "      <th>req_day</th>\n",
       "      <th>Time_Slot</th>\n",
       "    </tr>\n",
       "  </thead>\n",
       "  <tbody>\n",
       "    <tr>\n",
       "      <th>0</th>\n",
       "      <td>619</td>\n",
       "      <td>Airport</td>\n",
       "      <td>1.0</td>\n",
       "      <td>Trip Completed</td>\n",
       "      <td>2016-07-11 11:51:00</td>\n",
       "      <td>2016-07-11 13:00:00</td>\n",
       "      <td>11</td>\n",
       "      <td>11</td>\n",
       "      <td>0</td>\n",
       "    </tr>\n",
       "    <tr>\n",
       "      <th>1</th>\n",
       "      <td>867</td>\n",
       "      <td>Airport</td>\n",
       "      <td>1.0</td>\n",
       "      <td>Trip Completed</td>\n",
       "      <td>2016-07-11 17:57:00</td>\n",
       "      <td>2016-07-11 18:47:00</td>\n",
       "      <td>17</td>\n",
       "      <td>11</td>\n",
       "      <td>0</td>\n",
       "    </tr>\n",
       "    <tr>\n",
       "      <th>2</th>\n",
       "      <td>1807</td>\n",
       "      <td>City</td>\n",
       "      <td>1.0</td>\n",
       "      <td>Trip Completed</td>\n",
       "      <td>2016-07-12 09:17:00</td>\n",
       "      <td>2016-07-12 09:58:00</td>\n",
       "      <td>9</td>\n",
       "      <td>12</td>\n",
       "      <td>0</td>\n",
       "    </tr>\n",
       "    <tr>\n",
       "      <th>3</th>\n",
       "      <td>2532</td>\n",
       "      <td>Airport</td>\n",
       "      <td>1.0</td>\n",
       "      <td>Trip Completed</td>\n",
       "      <td>2016-07-12 21:08:00</td>\n",
       "      <td>2016-07-12 22:03:00</td>\n",
       "      <td>21</td>\n",
       "      <td>12</td>\n",
       "      <td>0</td>\n",
       "    </tr>\n",
       "    <tr>\n",
       "      <th>4</th>\n",
       "      <td>3112</td>\n",
       "      <td>City</td>\n",
       "      <td>1.0</td>\n",
       "      <td>Trip Completed</td>\n",
       "      <td>2016-07-13 08:33:16</td>\n",
       "      <td>2016-07-13 09:25:47</td>\n",
       "      <td>8</td>\n",
       "      <td>13</td>\n",
       "      <td>0</td>\n",
       "    </tr>\n",
       "  </tbody>\n",
       "</table>\n",
       "</div>"
      ],
      "text/plain": [
       "   Request id Pickup point  Driver id          Status   Request timestamp  \\\n",
       "0         619      Airport        1.0  Trip Completed 2016-07-11 11:51:00   \n",
       "1         867      Airport        1.0  Trip Completed 2016-07-11 17:57:00   \n",
       "2        1807         City        1.0  Trip Completed 2016-07-12 09:17:00   \n",
       "3        2532      Airport        1.0  Trip Completed 2016-07-12 21:08:00   \n",
       "4        3112         City        1.0  Trip Completed 2016-07-13 08:33:16   \n",
       "\n",
       "       Drop timestamp  req_hour  req_day  Time_Slot  \n",
       "0 2016-07-11 13:00:00        11       11          0  \n",
       "1 2016-07-11 18:47:00        17       11          0  \n",
       "2 2016-07-12 09:58:00         9       12          0  \n",
       "3 2016-07-12 22:03:00        21       12          0  \n",
       "4 2016-07-13 09:25:47         8       13          0  "
      ]
     },
     "execution_count": 104,
     "metadata": {},
     "output_type": "execute_result"
    }
   ],
   "source": [
    "df.head()"
   ]
  },
  {
   "cell_type": "markdown",
   "metadata": {},
   "source": [
    "### Hour Categories:\n",
    "    \n",
    "#### req_hour<5 as \"Pre_Morning\"\n",
    "#### req_hour<10 as \"Morning_Rush\"\n",
    "#### req_hour<17 as \"Day_Time\"\n",
    "#### req_hour<22 as \"Evening_Rush\"\n",
    "#### else \"Late_Night\""
   ]
  },
  {
   "cell_type": "code",
   "execution_count": null,
   "metadata": {
    "execution": {
     "iopub.execute_input": "2021-06-10T07:24:27.114595Z",
     "iopub.status.busy": "2021-06-10T07:24:27.114155Z",
     "iopub.status.idle": "2021-06-10T07:24:29.461523Z",
     "shell.execute_reply": "2021-06-10T07:24:29.460404Z",
     "shell.execute_reply.started": "2021-06-10T07:24:27.114557Z"
    }
   },
   "outputs": [],
   "source": [
    "j=0\n",
    "for i in df[\"req_hour\"]:\n",
    "    if df.iloc[j,6]<5:\n",
    "        df.iloc[j,8]=\"Pre_Morning\"\n",
    "    elif 5<=df.iloc[j,6]<10:\n",
    "        df.iloc[j,8]=\"Morning_Rush\"\n",
    "        \n",
    "    elif 10<=df.iloc[j,6]<17:\n",
    "        df.iloc[j,8]=\"Day_Time\"\n",
    "        \n",
    "    elif 17<=df.iloc[j,6]<22:\n",
    "        df.iloc[j,8]=\"Evening_Rush\"\n",
    "    else:\n",
    "        df.iloc[j,8]=\"Late_Night\"\n",
    "    j=j+1"
   ]
  },
  {
   "cell_type": "code",
   "execution_count": null,
   "metadata": {
    "execution": {
     "iopub.execute_input": "2021-06-10T07:24:29.466292Z",
     "iopub.status.busy": "2021-06-10T07:24:29.465895Z",
     "iopub.status.idle": "2021-06-10T07:24:29.482725Z",
     "shell.execute_reply": "2021-06-10T07:24:29.481324Z",
     "shell.execute_reply.started": "2021-06-10T07:24:29.466257Z"
    }
   },
   "outputs": [],
   "source": [
    "df.head()"
   ]
  },
  {
   "cell_type": "code",
   "execution_count": null,
   "metadata": {
    "execution": {
     "iopub.execute_input": "2021-06-10T07:24:29.485024Z",
     "iopub.status.busy": "2021-06-10T07:24:29.484561Z",
     "iopub.status.idle": "2021-06-10T07:24:29.501899Z",
     "shell.execute_reply": "2021-06-10T07:24:29.500590Z",
     "shell.execute_reply.started": "2021-06-10T07:24:29.484972Z"
    }
   },
   "outputs": [],
   "source": [
    "df[\"Time_Slot\"].value_counts()"
   ]
  },
  {
   "cell_type": "markdown",
   "metadata": {},
   "source": [
    "#### You see from the above value counts, the \"Morning_Rush\" and \"Evening_Rush\" are the hours with maximum load."
   ]
  },
  {
   "cell_type": "code",
   "execution_count": null,
   "metadata": {
    "execution": {
     "iopub.execute_input": "2021-06-10T07:24:29.504168Z",
     "iopub.status.busy": "2021-06-10T07:24:29.503714Z",
     "iopub.status.idle": "2021-06-10T07:24:29.700640Z",
     "shell.execute_reply": "2021-06-10T07:24:29.699081Z",
     "shell.execute_reply.started": "2021-06-10T07:24:29.504111Z"
    }
   },
   "outputs": [],
   "source": [
    "plt.figure(figsize=(10,6))\n",
    "sns.countplot(x=\"Time_Slot\",hue=\"Status\",data=df)\n",
    "plt.show()"
   ]
  },
  {
   "cell_type": "code",
   "execution_count": null,
   "metadata": {
    "execution": {
     "iopub.execute_input": "2021-06-10T07:24:29.702668Z",
     "iopub.status.busy": "2021-06-10T07:24:29.702292Z",
     "iopub.status.idle": "2021-06-10T07:24:29.709578Z",
     "shell.execute_reply": "2021-06-10T07:24:29.708490Z",
     "shell.execute_reply.started": "2021-06-10T07:24:29.702636Z"
    }
   },
   "outputs": [],
   "source": [
    "df_morning_rush=df[df['Time_Slot']=='Morning_Rush']"
   ]
  },
  {
   "cell_type": "code",
   "execution_count": null,
   "metadata": {
    "execution": {
     "iopub.execute_input": "2021-06-10T07:24:29.711430Z",
     "iopub.status.busy": "2021-06-10T07:24:29.711065Z",
     "iopub.status.idle": "2021-06-10T07:24:29.873079Z",
     "shell.execute_reply": "2021-06-10T07:24:29.871966Z",
     "shell.execute_reply.started": "2021-06-10T07:24:29.711396Z"
    }
   },
   "outputs": [],
   "source": [
    "sns.countplot(x=\"Pickup point\",hue=\"Status\",data=df_morning_rush)"
   ]
  },
  {
   "cell_type": "markdown",
   "metadata": {},
   "source": [
    "# Cancellation of cab as per the pickup location at morning rush hours"
   ]
  },
  {
   "cell_type": "code",
   "execution_count": null,
   "metadata": {
    "execution": {
     "iopub.execute_input": "2021-06-10T07:24:29.874577Z",
     "iopub.status.busy": "2021-06-10T07:24:29.874287Z",
     "iopub.status.idle": "2021-06-10T07:24:29.883741Z",
     "shell.execute_reply": "2021-06-10T07:24:29.882632Z",
     "shell.execute_reply.started": "2021-06-10T07:24:29.874549Z"
    }
   },
   "outputs": [],
   "source": [
    "# Pickup point= Airport\n",
    "\n",
    "df_airport_cancelled=df_morning_rush.loc[(df_morning_rush[\"Pickup point\"]==\"Airport\") & (df_morning_rush[\"Status\"]==\"Cancelled\")]\n",
    "len(df_airport_cancelled)"
   ]
  },
  {
   "cell_type": "code",
   "execution_count": null,
   "metadata": {
    "execution": {
     "iopub.execute_input": "2021-06-10T07:24:29.885561Z",
     "iopub.status.busy": "2021-06-10T07:24:29.885212Z",
     "iopub.status.idle": "2021-06-10T07:24:29.901214Z",
     "shell.execute_reply": "2021-06-10T07:24:29.900111Z",
     "shell.execute_reply.started": "2021-06-10T07:24:29.885526Z"
    }
   },
   "outputs": [],
   "source": [
    "# Pickup point= City\n",
    "df_city_cancelled=df_morning_rush.loc[(df_morning_rush[\"Pickup point\"]==\"City\") & (df_morning_rush[\"Status\"]==\"Cancelled\")]\n",
    "len(df_city_cancelled)"
   ]
  },
  {
   "cell_type": "markdown",
   "metadata": {},
   "source": [
    "# Morning Rush- city"
   ]
  },
  {
   "cell_type": "code",
   "execution_count": null,
   "metadata": {
    "execution": {
     "iopub.execute_input": "2021-06-10T07:24:29.903303Z",
     "iopub.status.busy": "2021-06-10T07:24:29.902906Z",
     "iopub.status.idle": "2021-06-10T07:24:29.916021Z",
     "shell.execute_reply": "2021-06-10T07:24:29.914452Z",
     "shell.execute_reply.started": "2021-06-10T07:24:29.903267Z"
    }
   },
   "outputs": [],
   "source": [
    "df_morning_rush[(df_morning_rush[\"Pickup point\"]==\"City\")].shape[0]"
   ]
  },
  {
   "cell_type": "code",
   "execution_count": null,
   "metadata": {
    "execution": {
     "iopub.execute_input": "2021-06-10T07:24:29.920418Z",
     "iopub.status.busy": "2021-06-10T07:24:29.919845Z",
     "iopub.status.idle": "2021-06-10T07:24:29.932436Z",
     "shell.execute_reply": "2021-06-10T07:24:29.931124Z",
     "shell.execute_reply.started": "2021-06-10T07:24:29.920383Z"
    }
   },
   "outputs": [],
   "source": [
    "df_morning_rush[(df_morning_rush[\"Pickup point\"]==\"City\") & (df_morning_rush[\"Status\"]==\"Cancelled\")].shape[0]"
   ]
  },
  {
   "cell_type": "code",
   "execution_count": null,
   "metadata": {
    "execution": {
     "iopub.execute_input": "2021-06-10T07:24:29.934673Z",
     "iopub.status.busy": "2021-06-10T07:24:29.934350Z",
     "iopub.status.idle": "2021-06-10T07:24:29.945345Z",
     "shell.execute_reply": "2021-06-10T07:24:29.944279Z",
     "shell.execute_reply.started": "2021-06-10T07:24:29.934642Z"
    }
   },
   "outputs": [],
   "source": [
    "df_morning_rush[(df_morning_rush[\"Pickup point\"]==\"City\") & (df_morning_rush[\"Status\"]==\"Trip Completed\")].shape[0]"
   ]
  },
  {
   "cell_type": "code",
   "execution_count": null,
   "metadata": {
    "execution": {
     "iopub.execute_input": "2021-06-10T07:24:29.947500Z",
     "iopub.status.busy": "2021-06-10T07:24:29.947047Z",
     "iopub.status.idle": "2021-06-10T07:24:29.966708Z",
     "shell.execute_reply": "2021-06-10T07:24:29.965289Z",
     "shell.execute_reply.started": "2021-06-10T07:24:29.947459Z"
    }
   },
   "outputs": [],
   "source": [
    "df_morning_rush[(df_morning_rush[\"Pickup point\"]==\"City\") & (df_morning_rush[\"Status\"]==\"No Cars Available\")].shape[0]"
   ]
  },
  {
   "cell_type": "markdown",
   "metadata": {},
   "source": [
    "# Morning Rush- Airport"
   ]
  },
  {
   "cell_type": "code",
   "execution_count": null,
   "metadata": {
    "execution": {
     "iopub.execute_input": "2021-06-10T07:24:29.969585Z",
     "iopub.status.busy": "2021-06-10T07:24:29.969139Z",
     "iopub.status.idle": "2021-06-10T07:24:29.983913Z",
     "shell.execute_reply": "2021-06-10T07:24:29.982259Z",
     "shell.execute_reply.started": "2021-06-10T07:24:29.969546Z"
    }
   },
   "outputs": [],
   "source": [
    "df_morning_rush[(df_morning_rush[\"Pickup point\"]==\"Airport\")].shape[0]"
   ]
  },
  {
   "cell_type": "code",
   "execution_count": null,
   "metadata": {
    "execution": {
     "iopub.execute_input": "2021-06-10T07:24:29.986441Z",
     "iopub.status.busy": "2021-06-10T07:24:29.985819Z",
     "iopub.status.idle": "2021-06-10T07:24:29.998856Z",
     "shell.execute_reply": "2021-06-10T07:24:29.997763Z",
     "shell.execute_reply.started": "2021-06-10T07:24:29.986392Z"
    }
   },
   "outputs": [],
   "source": [
    "df_morning_rush[(df_morning_rush[\"Pickup point\"]==\"Airport\") & (df_morning_rush[\"Status\"]==\"Cancelled\")].shape[0]"
   ]
  },
  {
   "cell_type": "code",
   "execution_count": null,
   "metadata": {
    "execution": {
     "iopub.execute_input": "2021-06-10T07:24:30.001206Z",
     "iopub.status.busy": "2021-06-10T07:24:30.000557Z",
     "iopub.status.idle": "2021-06-10T07:24:30.012213Z",
     "shell.execute_reply": "2021-06-10T07:24:30.011307Z",
     "shell.execute_reply.started": "2021-06-10T07:24:30.001135Z"
    }
   },
   "outputs": [],
   "source": [
    "df_morning_rush[(df_morning_rush[\"Pickup point\"]==\"Airport\") & (df_morning_rush[\"Status\"]==\"Trip Completed\")].shape[0]"
   ]
  },
  {
   "cell_type": "code",
   "execution_count": null,
   "metadata": {
    "execution": {
     "iopub.execute_input": "2021-06-10T07:24:30.013833Z",
     "iopub.status.busy": "2021-06-10T07:24:30.013412Z",
     "iopub.status.idle": "2021-06-10T07:24:30.026980Z",
     "shell.execute_reply": "2021-06-10T07:24:30.025934Z",
     "shell.execute_reply.started": "2021-06-10T07:24:30.013800Z"
    }
   },
   "outputs": [],
   "source": [
    "df_morning_rush[(df_morning_rush[\"Pickup point\"]==\"Airport\") & (df_morning_rush[\"Status\"]==\"No Cars Available\")].shape[0]"
   ]
  },
  {
   "cell_type": "markdown",
   "metadata": {},
   "source": [
    "# Evening Rush"
   ]
  },
  {
   "cell_type": "code",
   "execution_count": null,
   "metadata": {
    "execution": {
     "iopub.execute_input": "2021-06-10T07:24:30.028392Z",
     "iopub.status.busy": "2021-06-10T07:24:30.028077Z",
     "iopub.status.idle": "2021-06-10T07:24:30.051484Z",
     "shell.execute_reply": "2021-06-10T07:24:30.050611Z",
     "shell.execute_reply.started": "2021-06-10T07:24:30.028362Z"
    }
   },
   "outputs": [],
   "source": [
    "df_evening_rush=df[df['Time_Slot']=='Evening_Rush']\n",
    "df_evening_rush.head()"
   ]
  },
  {
   "cell_type": "code",
   "execution_count": null,
   "metadata": {
    "execution": {
     "iopub.execute_input": "2021-06-10T07:24:30.053088Z",
     "iopub.status.busy": "2021-06-10T07:24:30.052636Z",
     "iopub.status.idle": "2021-06-10T07:24:30.061217Z",
     "shell.execute_reply": "2021-06-10T07:24:30.059741Z",
     "shell.execute_reply.started": "2021-06-10T07:24:30.053056Z"
    }
   },
   "outputs": [],
   "source": [
    "df_city_cancelled=df_evening_rush[(df_evening_rush[\"Pickup point\"]==\"City\") & (df_evening_rush[\"Status\"]==\"Cancelled\")]"
   ]
  },
  {
   "cell_type": "code",
   "execution_count": null,
   "metadata": {
    "execution": {
     "iopub.execute_input": "2021-06-10T07:24:30.067097Z",
     "iopub.status.busy": "2021-06-10T07:24:30.066664Z",
     "iopub.status.idle": "2021-06-10T07:24:30.220833Z",
     "shell.execute_reply": "2021-06-10T07:24:30.219806Z",
     "shell.execute_reply.started": "2021-06-10T07:24:30.067050Z"
    }
   },
   "outputs": [],
   "source": [
    "sns.countplot(x=\"Pickup point\",hue=\"Status\",data=df_evening_rush)"
   ]
  },
  {
   "cell_type": "code",
   "execution_count": null,
   "metadata": {
    "execution": {
     "iopub.execute_input": "2021-06-10T07:24:30.222863Z",
     "iopub.status.busy": "2021-06-10T07:24:30.222370Z",
     "iopub.status.idle": "2021-06-10T07:24:30.232392Z",
     "shell.execute_reply": "2021-06-10T07:24:30.231275Z",
     "shell.execute_reply.started": "2021-06-10T07:24:30.222821Z"
    }
   },
   "outputs": [],
   "source": [
    "df_evening_rush[\"Status\"].value_counts()"
   ]
  },
  {
   "cell_type": "markdown",
   "metadata": {},
   "source": [
    "# Evening- Rush City"
   ]
  },
  {
   "cell_type": "code",
   "execution_count": null,
   "metadata": {
    "execution": {
     "iopub.execute_input": "2021-06-10T07:24:30.235170Z",
     "iopub.status.busy": "2021-06-10T07:24:30.234749Z",
     "iopub.status.idle": "2021-06-10T07:24:30.246476Z",
     "shell.execute_reply": "2021-06-10T07:24:30.245270Z",
     "shell.execute_reply.started": "2021-06-10T07:24:30.235128Z"
    }
   },
   "outputs": [],
   "source": [
    "df_evening_rush[(df_evening_rush[\"Pickup point\"]==\"City\")].shape[0]"
   ]
  },
  {
   "cell_type": "code",
   "execution_count": null,
   "metadata": {
    "execution": {
     "iopub.execute_input": "2021-06-10T07:24:30.248538Z",
     "iopub.status.busy": "2021-06-10T07:24:30.248110Z",
     "iopub.status.idle": "2021-06-10T07:24:30.258908Z",
     "shell.execute_reply": "2021-06-10T07:24:30.257689Z",
     "shell.execute_reply.started": "2021-06-10T07:24:30.248501Z"
    }
   },
   "outputs": [],
   "source": [
    "df_evening_rush[(df_evening_rush[\"Pickup point\"]==\"City\") & (df_evening_rush[\"Status\"]==\"Cancelled\")].shape[0]"
   ]
  },
  {
   "cell_type": "code",
   "execution_count": null,
   "metadata": {
    "execution": {
     "iopub.execute_input": "2021-06-10T07:24:30.260871Z",
     "iopub.status.busy": "2021-06-10T07:24:30.260542Z",
     "iopub.status.idle": "2021-06-10T07:24:30.269694Z",
     "shell.execute_reply": "2021-06-10T07:24:30.268612Z",
     "shell.execute_reply.started": "2021-06-10T07:24:30.260838Z"
    }
   },
   "outputs": [],
   "source": [
    "df_evening_rush[(df_evening_rush[\"Pickup point\"]==\"City\") & (df_evening_rush[\"Status\"]==\"Trip Completed\")].shape[0]"
   ]
  },
  {
   "cell_type": "code",
   "execution_count": null,
   "metadata": {
    "execution": {
     "iopub.execute_input": "2021-06-10T07:24:30.271806Z",
     "iopub.status.busy": "2021-06-10T07:24:30.271214Z",
     "iopub.status.idle": "2021-06-10T07:24:30.284283Z",
     "shell.execute_reply": "2021-06-10T07:24:30.283250Z",
     "shell.execute_reply.started": "2021-06-10T07:24:30.271760Z"
    }
   },
   "outputs": [],
   "source": [
    "df_evening_rush[(df_evening_rush[\"Pickup point\"]==\"City\") & (df_evening_rush[\"Status\"]==\"No Cars Available\")].shape[0]"
   ]
  },
  {
   "cell_type": "markdown",
   "metadata": {},
   "source": [
    "# Evening- Rush Airport"
   ]
  },
  {
   "cell_type": "code",
   "execution_count": null,
   "metadata": {
    "execution": {
     "iopub.execute_input": "2021-06-10T07:24:30.286544Z",
     "iopub.status.busy": "2021-06-10T07:24:30.285923Z",
     "iopub.status.idle": "2021-06-10T07:24:30.296788Z",
     "shell.execute_reply": "2021-06-10T07:24:30.295689Z",
     "shell.execute_reply.started": "2021-06-10T07:24:30.286496Z"
    }
   },
   "outputs": [],
   "source": [
    "df_evening_rush[(df_evening_rush[\"Pickup point\"]==\"Airport\")].shape[0]"
   ]
  },
  {
   "cell_type": "code",
   "execution_count": null,
   "metadata": {
    "execution": {
     "iopub.execute_input": "2021-06-10T07:24:30.298918Z",
     "iopub.status.busy": "2021-06-10T07:24:30.298519Z",
     "iopub.status.idle": "2021-06-10T07:24:30.310253Z",
     "shell.execute_reply": "2021-06-10T07:24:30.309419Z",
     "shell.execute_reply.started": "2021-06-10T07:24:30.298854Z"
    }
   },
   "outputs": [],
   "source": [
    "df_evening_rush[(df_evening_rush[\"Pickup point\"]==\"Airport\") & (df_evening_rush[\"Status\"]==\"Cancelled\")].shape[0]"
   ]
  },
  {
   "cell_type": "code",
   "execution_count": null,
   "metadata": {
    "execution": {
     "iopub.execute_input": "2021-06-10T07:24:30.312109Z",
     "iopub.status.busy": "2021-06-10T07:24:30.311547Z",
     "iopub.status.idle": "2021-06-10T07:24:30.327761Z",
     "shell.execute_reply": "2021-06-10T07:24:30.326751Z",
     "shell.execute_reply.started": "2021-06-10T07:24:30.312041Z"
    }
   },
   "outputs": [],
   "source": [
    "df_evening_rush[(df_evening_rush[\"Pickup point\"]==\"Airport\") & (df_evening_rush[\"Status\"]==\"Trip Completed\")].shape[0]"
   ]
  },
  {
   "cell_type": "code",
   "execution_count": null,
   "metadata": {
    "execution": {
     "iopub.execute_input": "2021-06-10T07:24:30.330111Z",
     "iopub.status.busy": "2021-06-10T07:24:30.329580Z",
     "iopub.status.idle": "2021-06-10T07:24:30.340704Z",
     "shell.execute_reply": "2021-06-10T07:24:30.339921Z",
     "shell.execute_reply.started": "2021-06-10T07:24:30.330077Z"
    }
   },
   "outputs": [],
   "source": [
    "df_evening_rush[(df_evening_rush[\"Pickup point\"]==\"Airport\") & (df_evening_rush[\"Status\"]==\"No Cars Available\")].shape[0]"
   ]
  },
  {
   "cell_type": "markdown",
   "metadata": {},
   "source": [
    "# Pie chart"
   ]
  },
  {
   "cell_type": "code",
   "execution_count": null,
   "metadata": {
    "execution": {
     "iopub.execute_input": "2021-06-10T07:24:30.342206Z",
     "iopub.status.busy": "2021-06-10T07:24:30.341794Z",
     "iopub.status.idle": "2021-06-10T07:24:30.360104Z",
     "shell.execute_reply": "2021-06-10T07:24:30.358614Z",
     "shell.execute_reply.started": "2021-06-10T07:24:30.342157Z"
    }
   },
   "outputs": [],
   "source": [
    "df_morning_city=df[(df[\"Pickup point\"]==\"City\")&(df[\"Time_Slot\"]==\"Morning_Rush\")]"
   ]
  },
  {
   "cell_type": "code",
   "execution_count": null,
   "metadata": {
    "execution": {
     "iopub.execute_input": "2021-06-10T07:24:30.361904Z",
     "iopub.status.busy": "2021-06-10T07:24:30.361594Z",
     "iopub.status.idle": "2021-06-10T07:24:30.373929Z",
     "shell.execute_reply": "2021-06-10T07:24:30.373011Z",
     "shell.execute_reply.started": "2021-06-10T07:24:30.361874Z"
    }
   },
   "outputs": [],
   "source": [
    "df_morning_city_count=pd.DataFrame(df_morning_city[\"Status\"].value_counts())"
   ]
  },
  {
   "cell_type": "code",
   "execution_count": null,
   "metadata": {
    "execution": {
     "iopub.execute_input": "2021-06-10T07:24:30.375454Z",
     "iopub.status.busy": "2021-06-10T07:24:30.375002Z",
     "iopub.status.idle": "2021-06-10T07:24:30.392486Z",
     "shell.execute_reply": "2021-06-10T07:24:30.391574Z",
     "shell.execute_reply.started": "2021-06-10T07:24:30.375422Z"
    }
   },
   "outputs": [],
   "source": [
    "df_morning_city_count"
   ]
  },
  {
   "cell_type": "code",
   "execution_count": null,
   "metadata": {
    "execution": {
     "iopub.execute_input": "2021-06-10T07:24:30.394064Z",
     "iopub.status.busy": "2021-06-10T07:24:30.393620Z",
     "iopub.status.idle": "2021-06-10T07:24:30.406528Z",
     "shell.execute_reply": "2021-06-10T07:24:30.405395Z",
     "shell.execute_reply.started": "2021-06-10T07:24:30.394031Z"
    }
   },
   "outputs": [],
   "source": [
    "df_morning_city_count[\"Status\"].values"
   ]
  },
  {
   "cell_type": "code",
   "execution_count": null,
   "metadata": {
    "execution": {
     "iopub.execute_input": "2021-06-10T07:24:30.408394Z",
     "iopub.status.busy": "2021-06-10T07:24:30.408020Z",
     "iopub.status.idle": "2021-06-10T07:24:30.420898Z",
     "shell.execute_reply": "2021-06-10T07:24:30.419793Z",
     "shell.execute_reply.started": "2021-06-10T07:24:30.408362Z"
    }
   },
   "outputs": [],
   "source": [
    "df_morning_city_count[\"Status\"].index"
   ]
  },
  {
   "cell_type": "code",
   "execution_count": null,
   "metadata": {
    "execution": {
     "iopub.execute_input": "2021-06-10T07:24:30.422670Z",
     "iopub.status.busy": "2021-06-10T07:24:30.422137Z",
     "iopub.status.idle": "2021-06-10T07:24:30.483985Z",
     "shell.execute_reply": "2021-06-10T07:24:30.483029Z",
     "shell.execute_reply.started": "2021-06-10T07:24:30.422633Z"
    }
   },
   "outputs": [],
   "source": [
    "fig,ax=plt.subplots()\n",
    "ax.pie(df_morning_city_count[\"Status\"].values,labels=df_morning_city_count[\"Status\"].index,\n",
    "      autopct=\"%.2f%%\",startangle=90)\n",
    "plt.show()"
   ]
  },
  {
   "cell_type": "code",
   "execution_count": null,
   "metadata": {
    "execution": {
     "iopub.execute_input": "2021-06-10T07:24:30.485574Z",
     "iopub.status.busy": "2021-06-10T07:24:30.485114Z",
     "iopub.status.idle": "2021-06-10T07:24:30.500409Z",
     "shell.execute_reply": "2021-06-10T07:24:30.499064Z",
     "shell.execute_reply.started": "2021-06-10T07:24:30.485541Z"
    }
   },
   "outputs": [],
   "source": [
    "df_evening_airport=df[(df[\"Pickup point\"]==\"Airport\")&(df[\"Time_Slot\"]==\"Evening_Rush\")]\n",
    "df_evening_airport_count=pd.DataFrame(df_evening_airport[\"Status\"].value_counts())\n",
    "df_evening_airport_count"
   ]
  },
  {
   "cell_type": "code",
   "execution_count": null,
   "metadata": {
    "execution": {
     "iopub.execute_input": "2021-06-10T07:24:30.502718Z",
     "iopub.status.busy": "2021-06-10T07:24:30.502036Z",
     "iopub.status.idle": "2021-06-10T07:24:30.514962Z",
     "shell.execute_reply": "2021-06-10T07:24:30.513529Z",
     "shell.execute_reply.started": "2021-06-10T07:24:30.502665Z"
    }
   },
   "outputs": [],
   "source": [
    "df_evening_airport_count[\"Status\"].values"
   ]
  },
  {
   "cell_type": "code",
   "execution_count": null,
   "metadata": {
    "execution": {
     "iopub.execute_input": "2021-06-10T07:24:30.517239Z",
     "iopub.status.busy": "2021-06-10T07:24:30.516679Z",
     "iopub.status.idle": "2021-06-10T07:24:30.527792Z",
     "shell.execute_reply": "2021-06-10T07:24:30.526778Z",
     "shell.execute_reply.started": "2021-06-10T07:24:30.517173Z"
    }
   },
   "outputs": [],
   "source": [
    "df_evening_airport_count[\"Status\"].index"
   ]
  },
  {
   "cell_type": "code",
   "execution_count": null,
   "metadata": {
    "execution": {
     "iopub.execute_input": "2021-06-10T07:24:30.530275Z",
     "iopub.status.busy": "2021-06-10T07:24:30.529490Z",
     "iopub.status.idle": "2021-06-10T07:24:30.594817Z",
     "shell.execute_reply": "2021-06-10T07:24:30.593952Z",
     "shell.execute_reply.started": "2021-06-10T07:24:30.530225Z"
    }
   },
   "outputs": [],
   "source": [
    "fig,ax=plt.subplots()\n",
    "ax.pie(df_evening_airport_count[\"Status\"].values,labels=df_evening_airport_count[\"Status\"].index,\n",
    "      autopct=\"%.2f%%\",startangle=90)\n",
    "plt.show()"
   ]
  },
  {
   "cell_type": "markdown",
   "metadata": {},
   "source": [
    "# Key Take Aways"
   ]
  },
  {
   "cell_type": "markdown",
   "metadata": {},
   "source": [
    "#### 1) We understood the dataset with the number of user requests were done and the number of columns(6745,6) along with other facts such as number/percentage of NaNs in each columns and format of dataTime in the request and drop timestamp columns.\n",
    "#### 2) We standardised format of dataTime in the request and drop timestamp columns.\n",
    "#### 3) Figured a logical reason as to why the NaNs in Driver_id and drop timestamp columns should be ignored.\n",
    "#### 4) Extracted the day number and hour from the request timestamp column to perform a deeper analysis.\n",
    "#### 5) Between hours 5AM-9AM, the load on cabs are high with almost equal amount of trips getting completed and cancelled.\n",
    "#### 6) Between hours 5PM-9PM, the load on cabs are significantly high. Hence, there is mismatch between cab demand and availabilty. Hence, we see more of \"No cars Available Status\".\n",
    "#### 7) Between hours 5AM-9AM, the users from city is significantly high.\n",
    "#### 8) Between hours 5PM-9PM, the users from Airport is significantly high.\n",
    "#### 9) The \"Morning_Rush\" and \"Evening_Rush\" are the hours with maximum load(i.e more number of users requesting cab services).\n",
    "#### 10) We also saw the load during \"Morning_rush\" and \"Evening_Rush\" from both pick-up points \"City\" and \"Airport\".\n",
    "#### 11) During the evening rush hour, we saw a significant number of No CARS AVAILABLE status  for the trip bookings from \"Airport\"."
   ]
  }
 ],
 "metadata": {
  "kernelspec": {
   "display_name": "Python 3",
   "language": "python",
   "name": "python3"
  },
  "language_info": {
   "codemirror_mode": {
    "name": "ipython",
    "version": 3
   },
   "file_extension": ".py",
   "mimetype": "text/x-python",
   "name": "python",
   "nbconvert_exporter": "python",
   "pygments_lexer": "ipython3",
   "version": "3.8.3"
  }
 },
 "nbformat": 4,
 "nbformat_minor": 4
}
